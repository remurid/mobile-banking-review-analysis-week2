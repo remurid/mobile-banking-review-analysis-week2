{
 "cells": [
  {
   "cell_type": "markdown",
   "id": "8336c5fa",
   "metadata": {},
   "source": [
    "# Mobile Banking Review Analysis: End-to-End Workflow\n",
    "This notebook demonstrates how to run the main data collection, sentiment analysis, and Oracle database insertion scripts for this project. Each step can be run independently."
   ]
  },
  {
   "cell_type": "markdown",
   "id": "f9de24f6",
   "metadata": {},
   "source": [
    "## 1. Collect and Preprocess Reviews\n",
    "This will fetch and clean reviews for all banks. Output files will be saved in the `data/` directory."
   ]
  },
  {
   "cell_type": "code",
   "execution_count": null,
   "id": "9d21e430",
   "metadata": {},
   "outputs": [],
   "source": [
    "!python scripts/collect_and_preprocess.py"
   ]
  },
  {
   "cell_type": "markdown",
   "id": "05222f5b",
   "metadata": {},
   "source": [
    "## 2. Run Sentiment and Thematic Analysis\n",
    "This will analyze the cleaned reviews and produce per-bank and combined analyzed CSVs in the `data/` directory."
   ]
  },
  {
   "cell_type": "code",
   "execution_count": null,
   "id": "d8ce2464",
   "metadata": {},
   "outputs": [],
   "source": [
    "!python scripts/sentiment_analysis.py"
   ]
  },
  {
   "cell_type": "markdown",
   "id": "0436829e",
   "metadata": {},
   "source": [
    "## 3. Insert Analyzed Data into Oracle Database\n",
    "This will insert the combined analyzed reviews into the Oracle database. Make sure your Oracle container is running and the `BANKREVIEWS` user is created."
   ]
  },
  {
   "cell_type": "code",
   "execution_count": null,
   "id": "014b333a",
   "metadata": {},
   "outputs": [],
   "source": [
    "!python scripts/insert_to_oracle.py"
   ]
  },
  {
   "cell_type": "markdown",
   "id": "fba424bd",
   "metadata": {},
   "source": [
    "---\n",
    "\n",
    "**Note:**\n",
    "- If you encounter errors about missing dependencies, run `pip install -r requirements.txt` in your terminal.\n",
    "- For Oracle connection, ensure Docker is running and the Oracle XE container is started with `docker compose up -d`.\n",
    "- If you need to create the `BANKREVIEWS` user, see the README for instructions."
   ]
  }
 ],
 "metadata": {
  "language_info": {
   "name": "python"
  }
 },
 "nbformat": 4,
 "nbformat_minor": 5
}
